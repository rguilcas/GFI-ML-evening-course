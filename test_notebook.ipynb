{
 "cells": [
  {
   "cell_type": "code",
   "execution_count": null,
   "id": "d749ce5d",
   "metadata": {
    "trusted": true
   },
   "outputs": [],
   "source": [
    "import numpy as np\n",
    "import matplotlib.pyplot as plt\n",
    "import matplotlib \n",
    "\n",
    "import pandas as pd\n",
    "import torch.nn as nn\n",
    "import torch.optim as optim\n",
    "\n",
    "import xarray as xr\n",
    "\n",
    "import torch.nn as nn\n",
    "import torch.optim as optim\n"
   ]
  },
  {
   "cell_type": "code",
   "execution_count": 3,
   "id": "976e72b9",
   "metadata": {},
   "outputs": [],
   "source": [
    "df1 = pd.read_csv('/home/rogui7909/code/ML_course/GFI-ML-evening-course/data/table(2).csv',delimiter=';', skipfooter=1, engine='python', na_values='-')\n",
    "df2 = pd.read_csv('/home/rogui7909/code/ML_course/GFI-ML-evening-course/data/table(3).csv',delimiter=';', skipfooter=1, engine='python', na_values='-')\n",
    "df1.index= pd.to_datetime(df1['Tid(norsk normaltid)'], dayfirst=True).rename('date')\n",
    "df2.index= pd.to_datetime(df2['Tid(norsk normaltid)'], dayfirst=True).rename('date')\n",
    "df1 = df1.iloc[:,3:].sort_index()\n",
    "df2 = df2.iloc[:,3:].sort_index()\n",
    "df1.columns = ['Tmax','Tmean','Tmin','Pr','Snowdepth']\n",
    "df1['wind']=df2['Middel av middelvind fra hovedobs. (døgn)']\n",
    "# df3 = pd.read_csv('/home/rogui7909/code/ML_course/GFI-ML-evening-course/data/table(4).csv',delimiter=';', skipfooter=1, engine='python')\n",
    "df = df1.astype(float).to_xarray().interpolate_na('date').to_dataframe().dropna().resample('W').mean()\n",
    "df['snow_change'] = df.Snowdepth.diff().fillna(0)\n",
    "df['snow_week_before'] = df.Snowdepth.shift(1).fillna(0)\n",
    "df['snow_week_after'] = df.Snowdepth.shift(-4).fillna(0)\n",
    "\n",
    "df = df.dropna()\n"
   ]
  },
  {
   "cell_type": "code",
   "execution_count": null,
   "id": "d4ba7d2d",
   "metadata": {},
   "outputs": [
    {
     "data": {
      "text/html": [
       "<div>\n",
       "<style scoped>\n",
       "    .dataframe tbody tr th:only-of-type {\n",
       "        vertical-align: middle;\n",
       "    }\n",
       "\n",
       "    .dataframe tbody tr th {\n",
       "        vertical-align: top;\n",
       "    }\n",
       "\n",
       "    .dataframe thead th {\n",
       "        text-align: right;\n",
       "    }\n",
       "</style>\n",
       "<table border=\"1\" class=\"dataframe\">\n",
       "  <thead>\n",
       "    <tr style=\"text-align: right;\">\n",
       "      <th></th>\n",
       "      <th>Tmax</th>\n",
       "      <th>Tmean</th>\n",
       "      <th>Tmin</th>\n",
       "      <th>Pr</th>\n",
       "      <th>Snowdepth</th>\n",
       "      <th>wind</th>\n",
       "      <th>snow_change</th>\n",
       "      <th>snow_week_before</th>\n",
       "      <th>snow_week_after</th>\n",
       "    </tr>\n",
       "  </thead>\n",
       "  <tbody>\n",
       "    <tr>\n",
       "      <th>Tmax</th>\n",
       "      <td>1.000000</td>\n",
       "      <td>0.985681</td>\n",
       "      <td>0.977889</td>\n",
       "      <td>-0.078574</td>\n",
       "      <td>-0.543204</td>\n",
       "      <td>-0.348000</td>\n",
       "      <td>-0.308725</td>\n",
       "      <td>-0.459885</td>\n",
       "      <td>-0.646256</td>\n",
       "    </tr>\n",
       "    <tr>\n",
       "      <th>Tmean</th>\n",
       "      <td>0.985681</td>\n",
       "      <td>1.000000</td>\n",
       "      <td>0.985503</td>\n",
       "      <td>-0.071864</td>\n",
       "      <td>-0.577286</td>\n",
       "      <td>-0.305019</td>\n",
       "      <td>-0.293043</td>\n",
       "      <td>-0.498443</td>\n",
       "      <td>-0.656028</td>\n",
       "    </tr>\n",
       "    <tr>\n",
       "      <th>Tmin</th>\n",
       "      <td>0.977889</td>\n",
       "      <td>0.985503</td>\n",
       "      <td>1.000000</td>\n",
       "      <td>-0.045745</td>\n",
       "      <td>-0.589421</td>\n",
       "      <td>-0.291690</td>\n",
       "      <td>-0.277581</td>\n",
       "      <td>-0.515009</td>\n",
       "      <td>-0.660030</td>\n",
       "    </tr>\n",
       "    <tr>\n",
       "      <th>Pr</th>\n",
       "      <td>-0.078574</td>\n",
       "      <td>-0.071864</td>\n",
       "      <td>-0.045745</td>\n",
       "      <td>1.000000</td>\n",
       "      <td>0.120464</td>\n",
       "      <td>0.099883</td>\n",
       "      <td>0.239003</td>\n",
       "      <td>0.060850</td>\n",
       "      <td>0.177403</td>\n",
       "    </tr>\n",
       "    <tr>\n",
       "      <th>Snowdepth</th>\n",
       "      <td>-0.543204</td>\n",
       "      <td>-0.577286</td>\n",
       "      <td>-0.589421</td>\n",
       "      <td>0.120464</td>\n",
       "      <td>1.000000</td>\n",
       "      <td>0.279145</td>\n",
       "      <td>0.125843</td>\n",
       "      <td>0.965093</td>\n",
       "      <td>0.788800</td>\n",
       "    </tr>\n",
       "    <tr>\n",
       "      <th>wind</th>\n",
       "      <td>-0.348000</td>\n",
       "      <td>-0.305019</td>\n",
       "      <td>-0.291690</td>\n",
       "      <td>0.099883</td>\n",
       "      <td>0.279145</td>\n",
       "      <td>1.000000</td>\n",
       "      <td>0.057313</td>\n",
       "      <td>0.259430</td>\n",
       "      <td>0.397594</td>\n",
       "    </tr>\n",
       "    <tr>\n",
       "      <th>snow_change</th>\n",
       "      <td>-0.308725</td>\n",
       "      <td>-0.293043</td>\n",
       "      <td>-0.277581</td>\n",
       "      <td>0.239003</td>\n",
       "      <td>0.125843</td>\n",
       "      <td>0.057313</td>\n",
       "      <td>1.000000</td>\n",
       "      <td>-0.129244</td>\n",
       "      <td>0.269103</td>\n",
       "    </tr>\n",
       "    <tr>\n",
       "      <th>snow_week_before</th>\n",
       "      <td>-0.459885</td>\n",
       "      <td>-0.498443</td>\n",
       "      <td>-0.515009</td>\n",
       "      <td>0.060850</td>\n",
       "      <td>0.965093</td>\n",
       "      <td>0.259430</td>\n",
       "      <td>-0.129244</td>\n",
       "      <td>1.000000</td>\n",
       "      <td>0.717567</td>\n",
       "    </tr>\n",
       "    <tr>\n",
       "      <th>snow_week_after</th>\n",
       "      <td>-0.646256</td>\n",
       "      <td>-0.656028</td>\n",
       "      <td>-0.660030</td>\n",
       "      <td>0.177403</td>\n",
       "      <td>0.788800</td>\n",
       "      <td>0.397594</td>\n",
       "      <td>0.269103</td>\n",
       "      <td>0.717567</td>\n",
       "      <td>1.000000</td>\n",
       "    </tr>\n",
       "  </tbody>\n",
       "</table>\n",
       "</div>"
      ],
      "text/plain": [
       "                      Tmax     Tmean      Tmin        Pr  Snowdepth      wind  \\\n",
       "Tmax              1.000000  0.985681  0.977889 -0.078574  -0.543204 -0.348000   \n",
       "Tmean             0.985681  1.000000  0.985503 -0.071864  -0.577286 -0.305019   \n",
       "Tmin              0.977889  0.985503  1.000000 -0.045745  -0.589421 -0.291690   \n",
       "Pr               -0.078574 -0.071864 -0.045745  1.000000   0.120464  0.099883   \n",
       "Snowdepth        -0.543204 -0.577286 -0.589421  0.120464   1.000000  0.279145   \n",
       "wind             -0.348000 -0.305019 -0.291690  0.099883   0.279145  1.000000   \n",
       "snow_change      -0.308725 -0.293043 -0.277581  0.239003   0.125843  0.057313   \n",
       "snow_week_before -0.459885 -0.498443 -0.515009  0.060850   0.965093  0.259430   \n",
       "snow_week_after  -0.646256 -0.656028 -0.660030  0.177403   0.788800  0.397594   \n",
       "\n",
       "                  snow_change  snow_week_before  snow_week_after  \n",
       "Tmax                -0.308725         -0.459885        -0.646256  \n",
       "Tmean               -0.293043         -0.498443        -0.656028  \n",
       "Tmin                -0.277581         -0.515009        -0.660030  \n",
       "Pr                   0.239003          0.060850         0.177403  \n",
       "Snowdepth            0.125843          0.965093         0.788800  \n",
       "wind                 0.057313          0.259430         0.397594  \n",
       "snow_change          1.000000         -0.129244         0.269103  \n",
       "snow_week_before    -0.129244          1.000000         0.717567  \n",
       "snow_week_after      0.269103          0.717567         1.000000  "
      ]
     },
     "execution_count": 4,
     "metadata": {},
     "output_type": "execute_result"
    }
   ],
   "source": [
    "df.corr()"
   ]
  },
  {
   "cell_type": "code",
   "execution_count": 5,
   "id": "a2bd08ba",
   "metadata": {
    "trusted": true
   },
   "outputs": [],
   "source": [
    "X = df[['Tmax','Tmean','Tmin','Pr']].values\n",
    "# X = df[['Snowdepth','Snowdepth','Snowdepth','Snowdepth','Snowdepth']].values\n",
    "\n",
    "y = df[['Snowdepth']].values"
   ]
  },
  {
   "cell_type": "code",
   "execution_count": 6,
   "id": "db08e417-63fe-4545-9da2-007140c142aa",
   "metadata": {
    "trusted": true
   },
   "outputs": [
    {
     "data": {
      "text/plain": [
       "Sequential(\n",
       "  (0): Linear(in_features=4, out_features=24, bias=True)\n",
       "  (1): ReLU()\n",
       "  (2): Linear(in_features=24, out_features=12, bias=True)\n",
       "  (3): ReLU()\n",
       "  (4): Linear(in_features=12, out_features=6, bias=True)\n",
       "  (5): ReLU()\n",
       "  (6): Linear(in_features=6, out_features=1, bias=True)\n",
       ")"
      ]
     },
     "execution_count": 6,
     "metadata": {},
     "output_type": "execute_result"
    }
   ],
   "source": [
    "model = nn.Sequential(\n",
    "    nn.Linear(4, 24),\n",
    "    nn.ReLU(),\n",
    "    nn.Linear(24, 12),\n",
    "    nn.ReLU(),\n",
    "    nn.Linear(12, 6),\n",
    "    nn.ReLU(),\n",
    "    nn.Linear(6, 1)\n",
    ")\n",
    "model"
   ]
  },
  {
   "cell_type": "code",
   "execution_count": 10,
   "id": "5250c0de-c561-4c01-963e-4928dba584c3",
   "metadata": {
    "trusted": true
   },
   "outputs": [],
   "source": [
    "import torch.nn as nn\n",
    "import torch.optim as optim\n",
    "\n",
    "# loss function and optimizer\n",
    "loss_fn = nn.MSELoss()  # mean square error\n",
    "optimizer = optim.Adam(model.parameters(), lr=0.01)"
   ]
  },
  {
   "cell_type": "code",
   "execution_count": 11,
   "id": "1a1c0a56-4916-47db-a7dc-68540a5a3df4",
   "metadata": {
    "trusted": true
   },
   "outputs": [
    {
     "name": "stderr",
     "output_type": "stream",
     "text": [
      "100%|██████████| 50/50 [00:23<00:00,  2.14it/s]\n"
     ]
    },
    {
     "data": {
      "text/plain": [
       "<All keys matched successfully>"
      ]
     },
     "execution_count": 11,
     "metadata": {},
     "output_type": "execute_result"
    }
   ],
   "source": [
    "import copy\n",
    "import numpy as np\n",
    "import torch\n",
    "from tqdm import tqdm\n",
    "from sklearn.model_selection import train_test_split\n",
    "\n",
    "# train-test split of the dataset\n",
    "X_train, X_test, y_train, y_test = train_test_split(X, y, train_size=0.7, shuffle=False)\n",
    "X_train = torch.tensor(X_train, dtype=torch.float32)\n",
    "y_train = torch.tensor(y_train, dtype=torch.float32).reshape(-1, 1)\n",
    "X_test = torch.tensor(X_test, dtype=torch.float32)\n",
    "y_test = torch.tensor(y_test, dtype=torch.float32).reshape(-1, 1)\n",
    "\n",
    "# training parameters\n",
    "n_epochs = 50   # number of epochs to run\n",
    "batch_size = 512  # size of each batch\n",
    "batch_start = torch.arange(0, len(X_train), batch_size)\n",
    "\n",
    "# Hold the best model\n",
    "best_mse = np.inf   # init to infinity\n",
    "best_weights = None\n",
    "history = []\n",
    "\n",
    "# training loop\n",
    "for epoch in tqdm(range(n_epochs)):\n",
    "    model.train()\n",
    "    with tqdm(batch_start, unit=\"batch\", mininterval=0, disable=True) as bar:\n",
    "        bar.set_description(f\"Epoch {epoch}\")\n",
    "        for start in bar:\n",
    "            # take a batch\n",
    "            X_batch = X_train[start:start+batch_size]\n",
    "            y_batch = y_train[start:start+batch_size]\n",
    "            # forward pass\n",
    "            y_pred = model(X_batch)\n",
    "            loss = loss_fn(y_pred, y_batch)\n",
    "            # backward pass\n",
    "            optimizer.zero_grad()\n",
    "            loss.backward()\n",
    "            # update weights\n",
    "            optimizer.step()\n",
    "            # print progress\n",
    "            bar.set_postfix(mse=float(loss))\n",
    "    # evaluate accuracy at end of each epoch\n",
    "    model.eval()\n",
    "    y_pred = model(X_test)\n",
    "    mse = loss_fn(y_pred, y_test)\n",
    "    mse = float(mse)\n",
    "    history.append(mse)\n",
    "    if mse < best_mse:\n",
    "        best_mse = mse\n",
    "        best_weights = copy.deepcopy(model.state_dict())\n",
    "# restore model and return best accuracy\n",
    "model.load_state_dict(best_weights)"
   ]
  },
  {
   "cell_type": "code",
   "execution_count": 12,
   "id": "e32d674e",
   "metadata": {},
   "outputs": [
    {
     "name": "stdout",
     "output_type": "stream",
     "text": [
      "MSE: 7049.95\n",
      "RMSE: 83.96\n"
     ]
    },
    {
     "data": {
      "image/png": "[encoded data removed]",
      "text/plain": [
       "<Figure size 640x480 with 1 Axes>"
      ]
     },
     "metadata": {},
     "output_type": "display_data"
    }
   ],
   "source": [
    "print(\"MSE: %.2f\" % best_mse)\n",
    "print(\"RMSE: %.2f\" % np.sqrt(best_mse))\n",
    "plt.plot(history)\n",
    "plt.show()"
   ]
  }
 ],
 "metadata": {
  "kernelspec": {
   "display_name": "ml-robin",
   "language": "python",
   "name": "python3"
  },
  "language_info": {
   "codemirror_mode": {
    "name": "ipython",
    "version": 3
   },
   "file_extension": ".py",
   "mimetype": "text/x-python",
   "name": "python",
   "nbconvert_exporter": "python",
   "pygments_lexer": "ipython3",
   "version": "3.12.3"
  }
 },
 "nbformat": 4,
 "nbformat_minor": 5
}
